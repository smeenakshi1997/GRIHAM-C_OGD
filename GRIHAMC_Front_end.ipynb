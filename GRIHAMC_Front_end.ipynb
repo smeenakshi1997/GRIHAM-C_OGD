{
  "cells": [
    {
      "cell_type": "markdown",
      "metadata": {
        "id": "view-in-github",
        "colab_type": "text"
      },
      "source": [
        "<a href=\"https://colab.research.google.com/github/smeenakshi1997/GRIHAM-C_OGD/blob/main/GRIHAMC_Front_end.ipynb\" target=\"_parent\"><img src=\"https://colab.research.google.com/assets/colab-badge.svg\" alt=\"Open In Colab\"/></a>"
      ]
    },
    {
      "cell_type": "code",
      "execution_count": null,
      "metadata": {
        "colab": {
          "base_uri": "https://localhost:8080/"
        },
        "id": "Mc_N4TWRvid8",
        "outputId": "414dc20f-cf8f-417d-ad7e-46f93ca5947d"
      },
      "outputs": [
        {
          "output_type": "stream",
          "name": "stdout",
          "text": [
            "Mounted at /content/drive\n"
          ]
        }
      ],
      "source": [
        "from google.colab import drive\n",
        "drive.mount('/content/drive')"
      ]
    },
    {
      "cell_type": "code",
      "execution_count": null,
      "metadata": {
        "id": "OgOFRe-_SALr",
        "colab": {
          "base_uri": "https://localhost:8080/"
        },
        "outputId": "5523de74-ace7-4342-d413-071c786eb36a"
      },
      "outputs": [
        {
          "output_type": "stream",
          "name": "stdout",
          "text": [
            "\u001b[2K     \u001b[90m━━━━━━━━━━━━━━━━━━━━━━━━━━━━━━━━━━━━━━━━\u001b[0m \u001b[32m8.4/8.4 MB\u001b[0m \u001b[31m16.5 MB/s\u001b[0m eta \u001b[36m0:00:00\u001b[0m\n",
            "\u001b[2K     \u001b[90m━━━━━━━━━━━━━━━━━━━━━━━━━━━━━━━━━━━━━━━━\u001b[0m \u001b[32m195.4/195.4 kB\u001b[0m \u001b[31m10.9 MB/s\u001b[0m eta \u001b[36m0:00:00\u001b[0m\n",
            "\u001b[2K     \u001b[90m━━━━━━━━━━━━━━━━━━━━━━━━━━━━━━━━━━━━━━━━\u001b[0m \u001b[32m4.8/4.8 MB\u001b[0m \u001b[31m33.1 MB/s\u001b[0m eta \u001b[36m0:00:00\u001b[0m\n",
            "\u001b[2K     \u001b[90m━━━━━━━━━━━━━━━━━━━━━━━━━━━━━━━━━━━━━━━━\u001b[0m \u001b[32m83.0/83.0 kB\u001b[0m \u001b[31m6.0 MB/s\u001b[0m eta \u001b[36m0:00:00\u001b[0m\n",
            "\u001b[2K     \u001b[90m━━━━━━━━━━━━━━━━━━━━━━━━━━━━━━━━━━━━━━━━\u001b[0m \u001b[32m62.7/62.7 kB\u001b[0m \u001b[31m6.8 MB/s\u001b[0m eta \u001b[36m0:00:00\u001b[0m\n",
            "\u001b[?25h"
          ]
        }
      ],
      "source": [
        "!pip install -q streamlit"
      ]
    },
    {
      "cell_type": "code",
      "source": [
        "%%writefile app.py\n",
        "\n",
        "#######################\n",
        "\n",
        "# Import libraries\n",
        "import streamlit as st\n",
        "import pandas as pd\n",
        "import altair as alt\n",
        "import plotly.express as px\n",
        "import pickle\n",
        "import torch\n",
        "import json\n",
        "import csv\n",
        "import datetime\n",
        "\n",
        "########################\n",
        "\n",
        "# Page configuration\n",
        "st.set_page_config(\n",
        "    page_title=\"GRIHAM-C: DEMO\",\n",
        "    page_icon=\"/content/problem_statement_1_and_2/OIG.jpeg\",\n",
        "    layout=\"wide\",\n",
        "    initial_sidebar_state=\"expanded\")\n",
        "\n",
        "alt.themes.enable(\"dark\")\n",
        "\n",
        "#######################\n",
        "\n",
        "# CSS styling\n",
        "\n",
        "st.markdown(\"\"\"\n",
        "<style>\n",
        "[data-testid=\"block-container\"] {\n",
        "    padding-left: 2rem;\n",
        "    padding-right: 2rem;\n",
        "    padding-top: 1rem;\n",
        "    padding-bottom: 0rem;\n",
        "    margin-bottom: -7rem;\n",
        "}\n",
        "\n",
        "[data-testid=\"stVerticalBlock\"] {\n",
        "    padding-left: 0rem;\n",
        "    padding-right: 0rem;\n",
        "}\n",
        "\n",
        "[data-testid=\"stMetric\"] {\n",
        "    background-color: #393939;\n",
        "    text-align: center;\n",
        "    padding: 15px 0;\n",
        "}\n",
        "\n",
        "[data-testid=\"stMetricLabel\"] {\n",
        "  display: flex;\n",
        "  justify-content: center;\n",
        "  align-items: center;\n",
        "}\n",
        "\n",
        "[data-testid=\"stMetricDeltaIcon-Up\"] {\n",
        "    position: relative;\n",
        "    left: 38%;\n",
        "    -webkit-transform: translateX(-50%);\n",
        "    -ms-transform: translateX(-50%);\n",
        "    transform: translateX(-50%);\n",
        "}\n",
        "\n",
        "[data-testid=\"stMetricDeltaIcon-Down\"] {\n",
        "    position: relative;\n",
        "    left: 38%;\n",
        "    -webkit-transform: translateX(-50%);\n",
        "    -ms-transform: translateX(-50%);\n",
        "    transform: translateX(-50%);\n",
        "}\n",
        "\n",
        "</style>\n",
        "\"\"\", unsafe_allow_html=True)\n",
        "\n",
        "#######################\n",
        "\n",
        "# Load data\n",
        "with open('/content/problem_statement_1_and_2/classification_report.json', 'r') as f:  #/content/drive/MyDrive/problem_statement_1_and_2/classification_report_hindi (2).json\n",
        "     # Load JSON data from file\n",
        "     json_cluster_dat = json.load(f)    # Your JSON data\n",
        "\n",
        "cluster_df = json_cluster_dat\n",
        "\n",
        "with open('/content/problem_statement_1_and_2/CategoryCode_Mapping_v2.json', 'r') as c:\n",
        "     # Load JSON data from file\n",
        "     json_dat = json.load(c)    # Your JSON data\n",
        "\n",
        "json_data = json_dat\n",
        "\n",
        "#######################\n",
        "\n",
        "#Initialize\n",
        "\n",
        "sequence_to_classify = \"\"\n",
        "summary = \"\"\n",
        "trans = \"\"\n",
        "org_code = \"\"\n",
        "org_code_items = []\n",
        "org_code_gri_id_items = []\n",
        "\n",
        "result = {}\n",
        "best_item_result = {}\n",
        "\n",
        "#######################\n",
        "\n",
        "# Sidebar\n",
        "with st.sidebar:\n",
        "    st.image('/content/problem_statement_1_and_2/OIG.jpeg', width=200)\n",
        "    st.title('GRIHAM-C: Demo')\n",
        "    st.write('_This page is demo only.\\nThe proposed trained model code can be viewed in GRIHAMC-ReportGen.ipynb, which is the backend_')\n",
        "\n",
        "    for i in range(len(cluster_df)):\n",
        "       if cluster_df[i]['org_code'] not in org_code_items and cluster_df[i]['grievance_id'] not in org_code_gri_id_items:\n",
        "          org_code_items.append(cluster_df[i]['org_code'])\n",
        "\n",
        "    selected_code = st.selectbox('Select an OrgCode', org_code_items)\n",
        "\n",
        "    st.text(\"(And)\")\n",
        "\n",
        "    for i in range(len(cluster_df)):\n",
        "        if cluster_df[i]['org_code'] == selected_code:\n",
        "           org_code_gri_id_items.append(cluster_df[i]['grievance_id'])\n",
        "\n",
        "    gr_id = st.selectbox('Select the Grievance Id', org_code_gri_id_items)\n",
        "\n",
        "    if(st.button(\"Enter\", key='orgid')):\n",
        "      st.text(gr_id)\n",
        "      for i in range(len(cluster_df)):\n",
        "          if cluster_df[i]['grievance_id'] == gr_id:\n",
        "             org_code = cluster_df[i]['org_code']\n",
        "             sequence_to_classify = cluster_df[i]['grievance_text']\n",
        "             result = cluster_df[i]['classification_result']\n",
        "             best_item_result = cluster_df[i]['best_items_dict']\n",
        "             summary = cluster_df[i]['summary_result']\n",
        "             trans = cluster_df[i]['translated_text']\n",
        "             break\n",
        "\n",
        "\n",
        "#######################\n",
        "    #lang_list = [\"hi_IN\", \"ta_IN\", \"ml_IN\" , \"mr_IN\", \"bn_IN\", \"te_IN\"]\n",
        "\n",
        "    #selected_lang = st.selectbox('Select the language to be translated to Eng', lang_list)\n",
        "\n",
        "    #gr_id=\"MEAPD/E/2023/0000002\" #\"GOVUP/E/2023/0000051\" #\"MEAPD/E/2023/0000002\" #\"CBODT/E/2023/0000001\" #\"MOLBR/E/2023/0000004\" #\"MORLY/E/2023/0000001\" #\"MOLBR/E/2023/0000003\"\n",
        "#######################\n",
        "\n",
        "#Textbox for text input\n",
        "\n",
        "st.title('GRIHAM- :blue[Clustering]')\n",
        "st.subheader('_Grievance Hierarchical Analytics Monitoring_ :blue[Clustering]', divider='blue')\n",
        "st.write('_Make sure classification_report.json file is generated and in path_')\n",
        "\n",
        "text = sequence_to_classify\n",
        "\n",
        "user_input = st.text_area(\"Grievance Text appears here:\", value=text , key = 'before_classify')\n",
        "\n",
        "col1, col2 = st.columns(2)\n",
        "\n",
        "with col1:\n",
        "    if st.button(\"Show Classification\"):\n",
        "       st.write(\"Generating classification!\")\n",
        "       st.write(\"Classification:\")\n",
        "       for i in range(len(cluster_df)):\n",
        "          if cluster_df[i]['grievance_id'] == gr_id:\n",
        "             result = cluster_df[i]['classification_result']\n",
        "\n",
        "with col2:\n",
        "    if st.button(\"Show Summary\"):\n",
        "       st.write(\"Generating Summary\")\n",
        "       for i in range(len(cluster_df)):\n",
        "          if cluster_df[i]['grievance_id'] == gr_id:\n",
        "             summary = cluster_df[i]['summary_result']\n",
        "\n",
        "\n",
        "st.dataframe(data = result, use_container_width=True)  #append all the values in a json dic and then add values to create report\n",
        "st.dataframe(data = best_item_result, use_container_width=True)\n",
        "user_summary = st.text_area(\"Grievance Summary appears here:\", summary, key = 'summary')\n",
        "user_translation = st.text_area(\"Grievance translation (if any) appears here:\", trans, key = 'translation')\n",
        "\n",
        "current_date = datetime.datetime.now().strftime(\"%Y-%m-%d\")\n",
        "org_code = selected_code\n",
        "\n",
        "\n",
        "if st.button(\"Add to report\"):\n",
        "       existing_json_file_path = f'/content/classification_{org_code}_{current_date}.json'\n",
        "       try:\n",
        "          with open(existing_json_file_path, 'r') as file:\n",
        "               final_update = json.load(file)\n",
        "       except FileNotFoundError:\n",
        "            final_update = []\n",
        "\n",
        "       for i in range(len(cluster_df)):\n",
        "           if cluster_df[i]['grievance_id'] == gr_id:\n",
        "              final_update.append(cluster_df[i])\n",
        "\n",
        "       with open(existing_json_file_path, 'w') as file:\n",
        "            json.dump(final_update, file, indent=2)\n",
        "\n",
        "       st.write(\"Classification added!\")\n",
        "\n",
        "if st.button(\"Generate Final report for the Org Code\"):\n",
        "       existing_json_file_path = f'/content/classification_{org_code}_{current_date}.json'\n",
        "       new_csv_file_name = f'/content/classification_report_{org_code}_{current_date}.csv'\n",
        "\n",
        "       with open(existing_json_file_path, 'r') as file:\n",
        "               final_update = json.load(file)\n",
        "\n",
        "       with open(new_csv_file_name, 'w', newline='') as file:\n",
        "            fieldnames = [\"grievance_id\",\"org_code\",\"grievance_text\",\"classification_result\",\n",
        "                           \"best_items_dict\", \"summary_result\", \"remarks_text\", \"translated_text\"]\n",
        "            writer = csv.DictWriter(file, fieldnames=fieldnames)\n",
        "            writer.writeheader()\n",
        "            writer.writerows(final_update)\n",
        "       st.write(\"CSV file created Successfully!\")\n",
        "\n"
      ],
      "metadata": {
        "colab": {
          "base_uri": "https://localhost:8080/"
        },
        "id": "E1MPdIZs8-B1",
        "outputId": "9aaacb14-3b30-4b51-eaec-7fb9e1c22b32"
      },
      "execution_count": null,
      "outputs": [
        {
          "output_type": "stream",
          "name": "stdout",
          "text": [
            "Writing app.py\n"
          ]
        }
      ]
    },
    {
      "cell_type": "code",
      "execution_count": null,
      "metadata": {
        "id": "xS5IEOc5SHG_",
        "colab": {
          "base_uri": "https://localhost:8080/"
        },
        "outputId": "5c227894-4635-497a-fdc0-4754387925ff"
      },
      "outputs": [
        {
          "output_type": "stream",
          "name": "stdout",
          "text": [
            "\u001b[K\u001b[?25h\u001b[37;40mnpm\u001b[0m \u001b[0m\u001b[30;43mWARN\u001b[0m \u001b[0m\u001b[35msaveError\u001b[0m ENOENT: no such file or directory, open '/content/package.json'\n",
            "\u001b[0m\u001b[37;40mnpm\u001b[0m \u001b[0m\u001b[34;40mnotice\u001b[0m\u001b[35m\u001b[0m created a lockfile as package-lock.json. You should commit this file.\n",
            "\u001b[0m\u001b[37;40mnpm\u001b[0m \u001b[0m\u001b[30;43mWARN\u001b[0m \u001b[0m\u001b[35menoent\u001b[0m ENOENT: no such file or directory, open '/content/package.json'\n",
            "\u001b[0m\u001b[37;40mnpm\u001b[0m \u001b[0m\u001b[30;43mWARN\u001b[0m\u001b[35m\u001b[0m content No description\n",
            "\u001b[0m\u001b[37;40mnpm\u001b[0m \u001b[0m\u001b[30;43mWARN\u001b[0m\u001b[35m\u001b[0m content No repository field.\n",
            "\u001b[0m\u001b[37;40mnpm\u001b[0m \u001b[0m\u001b[30;43mWARN\u001b[0m\u001b[35m\u001b[0m content No README data\n",
            "\u001b[0m\u001b[37;40mnpm\u001b[0m \u001b[0m\u001b[30;43mWARN\u001b[0m\u001b[35m\u001b[0m content No license field.\n",
            "\u001b[0m\n",
            "+ localtunnel@2.0.2\n",
            "added 22 packages from 22 contributors and audited 22 packages in 2.35s\n",
            "\n",
            "3 packages are looking for funding\n",
            "  run `npm fund` for details\n",
            "\n",
            "found 1 \u001b[93mmoderate\u001b[0m severity vulnerability\n",
            "  run `npm audit fix` to fix them, or `npm audit` for details\n",
            "\u001b[K\u001b[?25h"
          ]
        }
      ],
      "source": [
        "!npm install localtunnel"
      ]
    },
    {
      "cell_type": "code",
      "execution_count": null,
      "metadata": {
        "colab": {
          "base_uri": "https://localhost:8080/"
        },
        "id": "sZFuewacSKUR",
        "outputId": "4cd414fb-0700-4844-b734-bce87147b3c6"
      },
      "outputs": [
        {
          "output_type": "stream",
          "name": "stdout",
          "text": [
            "35.231.174.135\n"
          ]
        }
      ],
      "source": [
        "!streamlit run app.py &>/content/logs.txt & curl ipv4.icanhazip.com"
      ]
    },
    {
      "cell_type": "code",
      "execution_count": null,
      "metadata": {
        "colab": {
          "base_uri": "https://localhost:8080/"
        },
        "id": "zCUG6qAbSMeN",
        "outputId": "193ded58-3d85-4823-d29d-71923ea07ad6"
      },
      "outputs": [
        {
          "output_type": "stream",
          "name": "stdout",
          "text": [
            "\u001b[K\u001b[?25hnpx: installed 22 in 2.377s\n",
            "your url is: https://ripe-actors-grin.loca.lt\n",
            "^C\n"
          ]
        }
      ],
      "source": [
        "!npx localtunnel --port 8501"
      ]
    },
    {
      "cell_type": "markdown",
      "source": [
        "# **After using the above visualizer to generate the report for the specific org_code, Use the below code to create the group of grievances classified under each stages within one group in that stage**"
      ],
      "metadata": {
        "id": "St_9hq54NSWU"
      }
    },
    {
      "cell_type": "code",
      "source": [
        "import json\n",
        "\n",
        "def group_by_stage(json_objects, selected_stage):\n",
        "    grouped_objects = {}\n",
        "\n",
        "    for obj in json_objects:\n",
        "        classification_result = obj.get('classification_result', {})\n",
        "        stage_key = f\"Stage {selected_stage}\"\n",
        "\n",
        "        if stage_key in classification_result:\n",
        "            best_item = classification_result[stage_key]['Best Item']\n",
        "\n",
        "            if best_item not in grouped_objects:\n",
        "                grouped_objects[best_item] = []\n",
        "\n",
        "            grouped_objects[best_item].append(obj)\n",
        "\n",
        "    return grouped_objects\n",
        "\n",
        "def main():\n",
        "    json_file_path = '/content/classification_CBODT_2024-02-27.json'\n",
        "    with open(json_file_path, 'r') as file:\n",
        "        json_objects = json.load(file)\n",
        "\n",
        "    # User input: Select a stage (1 to 4)\n",
        "    selected_stage = int(input(\"Enter the stage number (1 to 4): \"))\n",
        "    grouped_objects = group_by_stage(json_objects, selected_stage)\n",
        "\n",
        "    output_file_path = f'/content/output_file_stage_{selected_stage}.json'\n",
        "    with open(output_file_path, 'w') as file:\n",
        "        json.dump(grouped_objects, file, indent=2)\n",
        "\n",
        "    print(f\"Objects grouped and saved to {output_file_path}\")\n",
        "\n",
        "if __name__ == \"__main__\":\n",
        "    main()\n"
      ],
      "metadata": {
        "colab": {
          "base_uri": "https://localhost:8080/"
        },
        "id": "gHSB98fAOsKh",
        "outputId": "aecad85b-1121-440d-acb5-da26fc793f84"
      },
      "execution_count": null,
      "outputs": [
        {
          "output_type": "stream",
          "name": "stdout",
          "text": [
            "Enter the stage number (1 to 4): 3\n",
            "Objects grouped and saved to /content/output_file_stage_3.json\n"
          ]
        }
      ]
    },
    {
      "cell_type": "code",
      "source": [
        "'''import json\n",
        "\n",
        "org_code_items = []\n",
        "org_code_gri_id_items = []\n",
        "\n",
        "# Load JSON data from file\n",
        "with open('/content/classification_report.json', 'r') as f:\n",
        "     # Load JSON data from file\n",
        "     json_cluster_dat = json.load(f)    # Your JSON data\n",
        "\n",
        "cluster_df = json_cluster_dat\n",
        "\n",
        "for i in range(len(cluster_df)):\n",
        "    if cluster_df[i]['org_code'] not in org_code_items and cluster_df[i]['grievance_id'] not in org_code_gri_id_items:\n",
        "       org_code_items.append(cluster_df[i]['org_code'])\n",
        "       org_code_gri_id_items.append(cluster_df[i]['grievance_id'])\n",
        "\n",
        "print(org_code_items)\n",
        "print(org_code_gri_id_items)\n",
        "'''"
      ],
      "metadata": {
        "colab": {
          "base_uri": "https://localhost:8080/"
        },
        "id": "5t7bf75UJtFG",
        "outputId": "db17ec56-d25b-42fe-9608-34df6d94f5ef"
      },
      "execution_count": null,
      "outputs": [
        {
          "output_type": "stream",
          "name": "stdout",
          "text": [
            "['MEAPD', 'CBODT', 'MOLBR', 'MORLY']\n",
            "['MEAPD/E/2023/0000002', 'CBODT/E/2023/0000001', 'MOLBR/E/2023/0000004', 'MORLY/E/2023/0000001']\n"
          ]
        }
      ]
    },
    {
      "cell_type": "code",
      "source": [
        "'''gr_id = st.text_input(\"Grievance Id:\", key=\"\")\n",
        "\n",
        "    if(st.button(\"Enter\", key = 'grid')):\n",
        "      for i in range(len(cluster_df)):\n",
        "          if cluster_df[i]['grievance_id'] == gr_id:\n",
        "             org_code = cluster_df[i]['org_code']\n",
        "             sequence_to_classify = cluster_df[i]['grievance_text']\n",
        "             result = cluster_df[i]['classification_result']\n",
        "             summary = cluster_df[i]['summary_result']\n",
        "             #trans = cluster_df[i]['translated_text']\n",
        "             break\n",
        "      st.text(gr_id)\n",
        "\n",
        "    st.text(\"(Or)\")'''"
      ],
      "metadata": {
        "id": "ESSFN51sitmU"
      },
      "execution_count": null,
      "outputs": []
    },
    {
      "cell_type": "code",
      "source": [
        "'''with col1:\n",
        "    if st.button(\"Add to report\"):\n",
        "       for i in range(len(cluster_df)):\n",
        "          if cluster_df[i]['grievance_id'] == gr_id:\n",
        "             org_code = cluster_df[i]['org_code']\n",
        "             sequence_to_classify = cluster_df[i]['grievance_text']\n",
        "             result = cluster_df[i]['classification_result']\n",
        "             summary = cluster_df[i]['summary_result']\n",
        "             final_update.append(cluster_df[i])\n",
        "       st.write(\"Classification added!\")\n",
        "       #st.write(final_update)\n",
        "\n",
        "with col2:\n",
        "    if st.button(\"Generate Final report for the Org Code\"):\n",
        "       for i in range(len(cluster_df)):\n",
        "          if cluster_df[i]['grievance_id'] == gr_id:\n",
        "             org_code = cluster_df[i]['org_code']\n",
        "             sequence_to_classify = cluster_df[i]['grievance_text']\n",
        "             result = cluster_df[i]['classification_result']\n",
        "             summary = cluster_df[i]['summary_result']\n",
        "             final_update.append(cluster_df[i])\n",
        "\n",
        "       new_file_name = f'/content/classification_report_{org_code}_{current_date}.csv'\n",
        "       with open(new_file_name, 'w', newline='') as file:\n",
        "            fieldnames = final_update[0].keys()\n",
        "            writer = csv.DictWriter(file, fieldnames=fieldnames)\n",
        "            writer.writerows(final_update)\n",
        "       st.write(\"CSV file created Successfully!\")'''"
      ],
      "metadata": {
        "id": "eyaEffGOPj_C"
      },
      "execution_count": null,
      "outputs": []
    },
    {
      "cell_type": "code",
      "source": [
        "'''#with st.expander('About', expanded=True):\n",
        "        #st.write(\n",
        "            #- Data: [U.S. Census Bureau](https://www.census.gov/data/datasets/time-series/demo/popest/2010s-state-total.html).\n",
        "            #- :orange[**Gains/Losses**]: states with high inbound/ outbound migration for selected year\n",
        "            #- :orange[**States Migration**]: percentage of states with annual inbound/ outbound migration > 50,000\n",
        "            #)'''"
      ],
      "metadata": {
        "id": "mbTKmkK9Tewd"
      },
      "execution_count": null,
      "outputs": []
    }
  ],
  "metadata": {
    "colab": {
      "provenance": [],
      "include_colab_link": true
    },
    "kernelspec": {
      "display_name": "Python 3",
      "name": "python3"
    },
    "language_info": {
      "name": "python"
    }
  },
  "nbformat": 4,
  "nbformat_minor": 0
}